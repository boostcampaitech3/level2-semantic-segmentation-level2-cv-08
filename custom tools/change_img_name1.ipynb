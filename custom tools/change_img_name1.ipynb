{
 "cells": [
  {
   "cell_type": "code",
   "execution_count": 3,
   "metadata": {},
   "outputs": [],
   "source": [
    "import json\n",
    "from PIL import Image\n",
    "import numpy as np\n",
    "from tqdm import tqdm\n",
    "import pandas as pd\n",
    "import os"
   ]
  },
  {
   "cell_type": "code",
   "execution_count": 4,
   "metadata": {},
   "outputs": [],
   "source": [
    "with open('/opt/ml/input/data/train.json', 'r') as f:\n",
    "    train_json = json.load(f)\n",
    "\n",
    "with open('/opt/ml/input/data/val.json', 'r') as f:\n",
    "    val_json = json.load(f)\n",
    "\n",
    "with open('/opt/ml/input/data/test.json', 'r') as f:\n",
    "    test_json = json.load(f)\n"
   ]
  },
  {
   "cell_type": "code",
   "execution_count": 65,
   "metadata": {},
   "outputs": [],
   "source": [
    "if not os.path.exists('/opt/ml/mmseg_dataset/images/train'):\n",
    "    os.makedirs('/opt/ml/mmseg_dataset/images/train')\n",
    "if not os.path.exists('/opt/ml/mmseg_dataset/images/val'):\n",
    "    os.makedirs('/opt/ml/mmseg_dataset/images/val')\n",
    "            \n",
    "if not os.path.exists('/opt/ml/mmseg_dataset/annotations/train'):\n",
    "    os.makedirs('/opt/ml/mmseg_dataset/annotations/train')\n",
    "if not os.path.exists('/opt/ml/mmseg_dataset/annotations/val'):\n",
    "    os.makedirs('/opt/ml/mmseg_dataset/annotations/val')"
   ]
  },
  {
   "cell_type": "code",
   "execution_count": 7,
   "metadata": {},
   "outputs": [
    {
     "data": {
      "text/plain": [
       "{'Background': 0,\n",
       " 'General trash': 1,\n",
       " 'Paper': 2,\n",
       " 'Paper pack': 3,\n",
       " 'Metal': 4,\n",
       " 'Glass': 5,\n",
       " 'Plastic': 6,\n",
       " 'Styrofoam': 7,\n",
       " 'Plastic bag': 8,\n",
       " 'Battery': 9,\n",
       " 'Clothing': 10}"
      ]
     },
     "execution_count": 7,
     "metadata": {},
     "output_type": "execute_result"
    }
   ],
   "source": [
    "from pycocotools.coco import COCO\n",
    "\n",
    "def get_classname(classID, cats):\n",
    "    for i in range(len(cats)):\n",
    "        if cats[i]['id']==classID:\n",
    "            return cats[i]['name']\n",
    "    return \"None\"\n",
    "\n",
    "category_names = {j:i for (i,j) in zip(np.arange(11), ['Background', 'General trash', 'Paper', 'Paper pack', 'Metal', 'Glass', \n",
    "                                                        'Plastic', 'Styrofoam', 'Plastic bag', 'Battery', 'Clothing']) }\n",
    "\n",
    "category_names\n",
    "\n"
   ]
  },
  {
   "cell_type": "code",
   "execution_count": 72,
   "metadata": {},
   "outputs": [
    {
     "name": "stdout",
     "output_type": "stream",
     "text": [
      "loading annotations into memory...\n",
      "Done (t=3.46s)\n",
      "creating index...\n",
      "index created!\n"
     ]
    },
    {
     "name": "stderr",
     "output_type": "stream",
     "text": [
      "100%|██████████| 2617/2617 [01:17<00:00, 33.88it/s]\n"
     ]
    }
   ],
   "source": [
    "dataset_path = '/opt/ml/input/data'\n",
    "coco = COCO('/opt/ml/input/data/train.json')\n",
    "for index in tqdm(range(len(train_json['images']))):\n",
    "    image_id = coco.getImgIds(imgIds=index)\n",
    "    image_infos = coco.loadImgs(image_id)[0]\n",
    "\n",
    "    # cv2 를 활용하여 image 불러오기\n",
    "    images = Image.open(os.path.join(dataset_path, image_infos['file_name']))\n",
    "    new_fname = image_infos['file_name'].replace('/', '-').replace('.jpg', '')\n",
    "\n",
    "    ann_ids = coco.getAnnIds(imgIds=image_infos['id'])\n",
    "    anns = coco.loadAnns(ann_ids)\n",
    "\n",
    "    # Load the categories in a variable\n",
    "    cat_ids = coco.getCatIds()\n",
    "    cats = coco.loadCats(cat_ids)\n",
    "\n",
    "    # masks : size가 (height x width)인 2D\n",
    "    # 각각의 pixel 값에는 \"category id\" 할당\n",
    "    # Background = 0\n",
    "    masks = np.zeros((image_infos[\"height\"], image_infos[\"width\"]))\n",
    "    # General trash = 1, ... , Cigarette = 10\n",
    "    anns = sorted(anns, key=lambda idx : idx['area'], reverse=True)\n",
    "    for i in range(len(anns)):\n",
    "        className = get_classname(anns[i]['category_id'], cats)\n",
    "        pixel_value = category_names[className]\n",
    "        masks[coco.annToMask(anns[i]) == 1] = pixel_value\n",
    "    masks = Image.fromarray(masks.astype(np.int8))\n",
    "    images.save(os.path.join('/opt/ml/mmseg_dataset/images/train', new_fname+'.jpg'))\n",
    "    masks.save(os.path.join('/opt/ml/mmseg_dataset/annotations/train', new_fname+'.png'))\n"
   ]
  },
  {
   "cell_type": "code",
   "execution_count": 73,
   "metadata": {},
   "outputs": [
    {
     "name": "stdout",
     "output_type": "stream",
     "text": [
      "loading annotations into memory...\n",
      "Done (t=0.88s)\n",
      "creating index...\n",
      "index created!\n"
     ]
    },
    {
     "name": "stderr",
     "output_type": "stream",
     "text": [
      "100%|██████████| 655/655 [00:19<00:00, 33.22it/s]\n"
     ]
    }
   ],
   "source": [
    "dataset_path = '/opt/ml/input/data'\n",
    "coco = COCO('/opt/ml/input/data/val.json')\n",
    "for index in tqdm(range(len(val_json['images']))):\n",
    "    image_id = coco.getImgIds(imgIds=index)\n",
    "    image_infos = coco.loadImgs(image_id)[0]\n",
    "\n",
    "    # cv2 를 활용하여 image 불러오기\n",
    "    images = Image.open(os.path.join(dataset_path, image_infos['file_name']))\n",
    "    new_fname = image_infos['file_name'].replace('/', '-').replace('.jpg', '')\n",
    "\n",
    "    ann_ids = coco.getAnnIds(imgIds=image_infos['id'])\n",
    "    anns = coco.loadAnns(ann_ids)\n",
    "\n",
    "    # Load the categories in a variable\n",
    "    cat_ids = coco.getCatIds()\n",
    "    cats = coco.loadCats(cat_ids)\n",
    "\n",
    "    # masks : size가 (height x width)인 2D\n",
    "    # 각각의 pixel 값에는 \"category id\" 할당\n",
    "    # Background = 0\n",
    "    masks = np.zeros((image_infos[\"height\"], image_infos[\"width\"]))\n",
    "    # General trash = 1, ... , Cigarette = 10\n",
    "    anns = sorted(anns, key=lambda idx : idx['area'], reverse=True)\n",
    "    for i in range(len(anns)):\n",
    "        className = get_classname(anns[i]['category_id'], cats)\n",
    "        pixel_value = category_names[className]\n",
    "        masks[coco.annToMask(anns[i]) == 1] = pixel_value\n",
    "    masks = Image.fromarray(masks.astype(np.int8))\n",
    "    images.save(os.path.join('/opt/ml/mmseg_dataset/images/val', new_fname+'.jpg'))\n",
    "    masks.save(os.path.join('/opt/ml/mmseg_dataset/annotations/val', new_fname+'.png'))\n"
   ]
  },
  {
   "cell_type": "code",
   "execution_count": 10,
   "metadata": {},
   "outputs": [
    {
     "name": "stdout",
     "output_type": "stream",
     "text": [
      "loading annotations into memory...\n",
      "Done (t=0.00s)\n",
      "creating index...\n",
      "index created!\n"
     ]
    },
    {
     "name": "stderr",
     "output_type": "stream",
     "text": [
      "100%|██████████| 624/624 [00:13<00:00, 47.45it/s]\n"
     ]
    }
   ],
   "source": [
    "dataset_path = '/opt/ml/input/data'\n",
    "coco = COCO('/opt/ml/input/data/test.json')\n",
    "for index in tqdm(range(len(test_json['images']))):\n",
    "    image_id = coco.getImgIds(imgIds=index)\n",
    "    image_infos = coco.loadImgs(image_id)[0]\n",
    "\n",
    "    # cv2 를 활용하여 image 불러오기\n",
    "    images = Image.open(os.path.join(dataset_path, image_infos['file_name']))\n",
    "    new_fname = image_infos['file_name'].replace('/', '-').replace('.jpg', '')\n",
    "\n",
    "    ann_ids = coco.getAnnIds(imgIds=image_infos['id'])\n",
    "    anns = coco.loadAnns(ann_ids)\n",
    "\n",
    "    # Load the categories in a variable\n",
    "    cat_ids = coco.getCatIds()\n",
    "    cats = coco.loadCats(cat_ids)\n",
    "\n",
    "    # masks : size가 (height x width)인 2D\n",
    "    # 각각의 pixel 값에는 \"category id\" 할당\n",
    "    # Background = 0\n",
    "    masks = np.zeros((image_infos[\"height\"], image_infos[\"width\"]))\n",
    "    # General trash = 1, ... , Cigarette = 10\n",
    "    # anns = sorted(anns, key=lambda idx : idx['area'], reverse=True)\n",
    "    # for i in range(len(anns)):\n",
    "    #     className = get_classname(anns[i]['category_id'], cats)\n",
    "    #     pixel_value = category_names[className]\n",
    "    #     masks[coco.annToMask(anns[i]) == 1] = pixel_value\n",
    "    masks = Image.fromarray(masks.astype(np.int8))\n",
    "    images.save(os.path.join('/opt/ml/mmseg_dataset/images/test', new_fname+'.jpg'))\n",
    "    masks.save(os.path.join('/opt/ml/mmseg_dataset/annotations/test', new_fname+'.png'))\n"
   ]
  },
  {
   "cell_type": "code",
   "execution_count": 79,
   "metadata": {},
   "outputs": [
    {
     "data": {
      "text/plain": [
       "10"
      ]
     },
     "execution_count": 79,
     "metadata": {},
     "output_type": "execute_result"
    }
   ],
   "source": [
    "img = Image.open('/opt/ml/mmseg_dataset/annotations/val/batch_01_vt-0172.png')\n",
    "img = np.array(img)\n",
    "img.max()"
   ]
  },
  {
   "cell_type": "code",
   "execution_count": null,
   "metadata": {},
   "outputs": [],
   "source": []
  }
 ],
 "metadata": {
  "interpreter": {
   "hash": "684e7718cc5b0f539b595fbc9a19d043f2885c9b1b7338e67a47c1f9a2719a20"
  },
  "kernelspec": {
   "display_name": "Python 3.8.13 ('mmlab')",
   "language": "python",
   "name": "python3"
  },
  "language_info": {
   "codemirror_mode": {
    "name": "ipython",
    "version": 3
   },
   "file_extension": ".py",
   "mimetype": "text/x-python",
   "name": "python",
   "nbconvert_exporter": "python",
   "pygments_lexer": "ipython3",
   "version": "3.8.13"
  },
  "orig_nbformat": 4
 },
 "nbformat": 4,
 "nbformat_minor": 2
}
