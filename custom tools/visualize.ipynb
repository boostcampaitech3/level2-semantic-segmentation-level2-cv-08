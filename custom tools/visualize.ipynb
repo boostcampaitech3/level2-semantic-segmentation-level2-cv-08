{
 "cells": [
  {
   "cell_type": "code",
   "execution_count": 27,
   "metadata": {},
   "outputs": [],
   "source": [
    "import pandas as pd\n",
    "import matplotlib.pyplot as plt\n",
    "import seaborn as sns\n",
    "from PIL import Image\n",
    "import os\n",
    "from ipywidgets import interact\n",
    "import numpy as np\n",
    "import albumentations as A"
   ]
  },
  {
   "cell_type": "code",
   "execution_count": 14,
   "metadata": {},
   "outputs": [],
   "source": [
    "csv_path = '/opt/ml/input/code/submission'\n",
    "csv_fname = 'upernet_swin_val(pretrained).csv'\n",
    "csv_fpath = os.path.join(csv_path, csv_fname)\n",
    "\n",
    "base_path = '/opt/ml/mmseg_dataset'\n",
    "phase = 'val'\n",
    "img_bpath = os.path.join(base_path, 'images', phase)\n",
    "ann_bpath = os.path.join(base_path, 'annotations', phase)"
   ]
  },
  {
   "cell_type": "code",
   "execution_count": 6,
   "metadata": {},
   "outputs": [
    {
     "data": {
      "text/html": [
       "<div>\n",
       "<style scoped>\n",
       "    .dataframe tbody tr th:only-of-type {\n",
       "        vertical-align: middle;\n",
       "    }\n",
       "\n",
       "    .dataframe tbody tr th {\n",
       "        vertical-align: top;\n",
       "    }\n",
       "\n",
       "    .dataframe thead th {\n",
       "        text-align: right;\n",
       "    }\n",
       "</style>\n",
       "<table border=\"1\" class=\"dataframe\">\n",
       "  <thead>\n",
       "    <tr style=\"text-align: right;\">\n",
       "      <th></th>\n",
       "      <th>image_id</th>\n",
       "      <th>PredictionString</th>\n",
       "    </tr>\n",
       "  </thead>\n",
       "  <tbody>\n",
       "    <tr>\n",
       "      <th>0</th>\n",
       "      <td>batch_01_vt/0002.jpg</td>\n",
       "      <td>0 0 0 0 2 2 2 2 2 2 2 0 0 0 0 0 0 0 0 0 0 0 0 ...</td>\n",
       "    </tr>\n",
       "    <tr>\n",
       "      <th>1</th>\n",
       "      <td>batch_01_vt/0009.jpg</td>\n",
       "      <td>0 0 0 0 0 0 0 0 0 0 0 0 0 0 0 0 0 0 0 0 0 0 0 ...</td>\n",
       "    </tr>\n",
       "    <tr>\n",
       "      <th>2</th>\n",
       "      <td>batch_01_vt/0018.jpg</td>\n",
       "      <td>0 0 0 0 0 0 0 0 0 0 0 0 0 0 0 0 0 0 0 0 0 0 0 ...</td>\n",
       "    </tr>\n",
       "    <tr>\n",
       "      <th>3</th>\n",
       "      <td>batch_01_vt/0019.jpg</td>\n",
       "      <td>0 0 0 0 0 0 0 0 0 0 0 0 0 0 0 0 0 0 0 0 0 0 0 ...</td>\n",
       "    </tr>\n",
       "    <tr>\n",
       "      <th>4</th>\n",
       "      <td>batch_01_vt/0030.jpg</td>\n",
       "      <td>0 0 0 0 0 0 0 0 0 0 0 0 0 0 0 0 0 0 0 0 0 0 0 ...</td>\n",
       "    </tr>\n",
       "  </tbody>\n",
       "</table>\n",
       "</div>"
      ],
      "text/plain": [
       "               image_id                                   PredictionString\n",
       "0  batch_01_vt/0002.jpg  0 0 0 0 2 2 2 2 2 2 2 0 0 0 0 0 0 0 0 0 0 0 0 ...\n",
       "1  batch_01_vt/0009.jpg  0 0 0 0 0 0 0 0 0 0 0 0 0 0 0 0 0 0 0 0 0 0 0 ...\n",
       "2  batch_01_vt/0018.jpg  0 0 0 0 0 0 0 0 0 0 0 0 0 0 0 0 0 0 0 0 0 0 0 ...\n",
       "3  batch_01_vt/0019.jpg  0 0 0 0 0 0 0 0 0 0 0 0 0 0 0 0 0 0 0 0 0 0 0 ...\n",
       "4  batch_01_vt/0030.jpg  0 0 0 0 0 0 0 0 0 0 0 0 0 0 0 0 0 0 0 0 0 0 0 ..."
      ]
     },
     "execution_count": 6,
     "metadata": {},
     "output_type": "execute_result"
    }
   ],
   "source": [
    "prediction = pd.read_csv(csv_fpath)"
   ]
  },
  {
   "cell_type": "code",
   "execution_count": 13,
   "metadata": {},
   "outputs": [
    {
     "data": {
      "text/plain": [
       "array([['1', '2', '3'],\n",
       "       ['4', '5', '6']], dtype='<U1')"
      ]
     },
     "execution_count": 13,
     "metadata": {},
     "output_type": "execute_result"
    }
   ],
   "source": [
    "test = '1 2 3 4 5 6'\n",
    "np.array(test.split(' ')).reshape(-1, 3)"
   ]
  },
  {
   "cell_type": "code",
   "execution_count": 65,
   "metadata": {},
   "outputs": [],
   "source": [
    "size = 256\n",
    "transform = A.Compose([A.Resize(size, size)])\n",
    "\n",
    "PALETTE = [[0, 0, 0], [192, 0, 128], [0, 128, 192], [0, 128, 64],\n",
    "               [128, 0, 0], [64, 0, 128], [64, 0, 192], [192, 128, 64],\n",
    "               [192, 192, 128], [64, 64, 128], [128, 0, 192]]\n",
    "CLASSES = ('Background', 'General trash', 'Paper', 'Paper pack', 'Metal', 'Glass', \n",
    "            'Plastic', 'Styrofoam', 'Plastic bag', 'Battery', 'Clothing')"
   ]
  },
  {
   "cell_type": "code",
   "execution_count": 52,
   "metadata": {},
   "outputs": [
    {
     "ename": "IndexError",
     "evalue": "index 3 is out of bounds for axis 0 with size 3",
     "output_type": "error",
     "traceback": [
      "\u001b[0;31m---------------------------------------------------------------------------\u001b[0m",
      "\u001b[0;31mIndexError\u001b[0m                                Traceback (most recent call last)",
      "\u001b[1;32m/opt/ml/analysis/visualize.ipynb Cell 6'\u001b[0m in \u001b[0;36m<cell line: 3>\u001b[0;34m()\u001b[0m\n\u001b[1;32m      <a href='vscode-notebook-cell://ssh-remote%2B49.50.164.14/opt/ml/analysis/visualize.ipynb#ch0000006vscode-remote?line=0'>1</a>\u001b[0m test \u001b[39m=\u001b[39m np\u001b[39m.\u001b[39marray([[\u001b[39m1\u001b[39m,\u001b[39m2\u001b[39m,\u001b[39m3\u001b[39m], [\u001b[39m4\u001b[39m,\u001b[39m5\u001b[39m,\u001b[39m6\u001b[39m], [\u001b[39m7\u001b[39m, \u001b[39m8\u001b[39m, \u001b[39m9\u001b[39m]])\n\u001b[1;32m      <a href='vscode-notebook-cell://ssh-remote%2B49.50.164.14/opt/ml/analysis/visualize.ipynb#ch0000006vscode-remote?line=1'>2</a>\u001b[0m test\u001b[39m.\u001b[39mshape\n\u001b[0;32m----> <a href='vscode-notebook-cell://ssh-remote%2B49.50.164.14/opt/ml/analysis/visualize.ipynb#ch0000006vscode-remote?line=2'>3</a>\u001b[0m test[\u001b[39m3\u001b[39;49m, test\u001b[39m.\u001b[39;49mshape]\n",
      "\u001b[0;31mIndexError\u001b[0m: index 3 is out of bounds for axis 0 with size 3"
     ]
    }
   ],
   "source": [
    "test = np.array([[1,2,3], [4,5,6], [7, 8, 9]])\n",
    "test.shape\n",
    "test[3, test.shape]\n",
    "# mask[0,test==1] = PALETTE[0][0]\n",
    "# mask[1, test==1] = PALETTE[0][1]\n",
    "# mask[2,test==1] = PALETTE[0][2]\n",
    "# mask"
   ]
  },
  {
   "cell_type": "code",
   "execution_count": 107,
   "metadata": {},
   "outputs": [
    {
     "data": {
      "application/vnd.jupyter.widget-view+json": {
       "model_id": "fbeac8fb0ac94950a01bebbbd9a71651",
       "version_major": 2,
       "version_minor": 0
      },
      "text/plain": [
       "interactive(children=(IntSlider(value=327, description='idx', max=654), Output()), _dom_classes=('widget-inter…"
      ]
     },
     "metadata": {},
     "output_type": "display_data"
    }
   ],
   "source": [
    "@interact(idx=(0, prediction.shape[0]-1))\n",
    "def ShowImg(idx):\n",
    "    fname = prediction.iloc[idx]['image_id'].replace('/', '-')\n",
    "\n",
    "    img = np.array(Image.open(os.path.join(img_bpath, fname)))\n",
    "    gt = np.array(Image.open(os.path.join(ann_bpath, fname.replace('jpg', 'png'))))\n",
    "    transforms = transform(image=img, mask=gt)\n",
    "\n",
    "    resized_img = transforms['image']\n",
    "    resized_gt = transforms['mask'].astype(int)\n",
    "    predict = np.array(prediction.iloc[idx]['PredictionString'].split(' ')).reshape(256, 256).astype(int)\n",
    "    \n",
    "    predict_mask = np.zeros((3, 256, 256))\n",
    "    gt_mask = np.zeros((3, 256, 256))\n",
    "    color_label = np.zeros((3, 250, 250))\n",
    "    \n",
    "\n",
    "    fig, axes = plt.subplots(1, 4, figsize=(20, 10), sharey=True)\n",
    "    for i in range(10):\n",
    "        for j in range(3):\n",
    "            predict_mask[j, predict==i] = PALETTE[i][j]\n",
    "            gt_mask[j, resized_gt==i] = PALETTE[i][j]\n",
    "            color_label[j, i*25:i*25+25] = PALETTE[i][j]\n",
    "        plt.sca(axes[3])\n",
    "        plt.text(0,i*25+20, color='white', s=CLASSES[i], fontsize=15)\n",
    "    \n",
    "    axes[0].imshow(resized_img)\n",
    "    axes[1].imshow((gt_mask.transpose(1, 2, 0))/255.0)\n",
    "    axes[2].imshow(predict_mask.transpose(1, 2, 0)/255.0)\n",
    "    axes[3].imshow(color_label.transpose(1, 2, 0)/255.0)\n",
    "    axes[0].set_title('img')\n",
    "    axes[1].set_title('gt')\n",
    "    axes[2].set_title('predict')\n",
    "    axes[3].set_title('color label')\n"
   ]
  },
  {
   "cell_type": "code",
   "execution_count": null,
   "metadata": {},
   "outputs": [],
   "source": []
  }
 ],
 "metadata": {
  "interpreter": {
   "hash": "684e7718cc5b0f539b595fbc9a19d043f2885c9b1b7338e67a47c1f9a2719a20"
  },
  "kernelspec": {
   "display_name": "Python 3.8.13 ('mmlab')",
   "language": "python",
   "name": "python3"
  },
  "language_info": {
   "codemirror_mode": {
    "name": "ipython",
    "version": 3
   },
   "file_extension": ".py",
   "mimetype": "text/x-python",
   "name": "python",
   "nbconvert_exporter": "python",
   "pygments_lexer": "ipython3",
   "version": "3.8.13"
  },
  "orig_nbformat": 4
 },
 "nbformat": 4,
 "nbformat_minor": 2
}
