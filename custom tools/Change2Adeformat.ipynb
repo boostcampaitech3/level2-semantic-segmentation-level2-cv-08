{
 "cells": [
  {
   "cell_type": "code",
   "execution_count": 1,
   "metadata": {},
   "outputs": [],
   "source": [
    "import json\n",
    "from PIL import Image\n",
    "import numpy as np\n",
    "from tqdm import tqdm\n",
    "import pandas as pd\n",
    "import os"
   ]
  },
  {
   "cell_type": "markdown",
   "metadata": {},
   "source": [
    "### 경로 지정"
   ]
  },
  {
   "cell_type": "code",
   "execution_count": 2,
   "metadata": {},
   "outputs": [],
   "source": [
    "# 원본 json 파일 경로들\n",
    "base_path_ori = '/opt/ml/input/data'\n",
    "train_json_fname = 'cv_train_0.json'\n",
    "val_json_fname = 'cv_val_0.json'\n",
    "test_json_fname = 'test.json'\n",
    "\n",
    "# ade format에 맞춰 이미지를 저장할 폴더\n",
    "base_path_dst = '/opt/ml/mmseg_dataset' "
   ]
  },
  {
   "cell_type": "markdown",
   "metadata": {},
   "source": [
    "### category idx 지정"
   ]
  },
  {
   "cell_type": "code",
   "execution_count": 3,
   "metadata": {},
   "outputs": [
    {
     "data": {
      "text/plain": [
       "{'Background': 0,\n",
       " 'General trash': 1,\n",
       " 'Paper': 2,\n",
       " 'Paper pack': 3,\n",
       " 'Metal': 4,\n",
       " 'Glass': 5,\n",
       " 'Plastic': 6,\n",
       " 'Styrofoam': 7,\n",
       " 'Plastic bag': 8,\n",
       " 'Battery': 9,\n",
       " 'Clothing': 10}"
      ]
     },
     "execution_count": 3,
     "metadata": {},
     "output_type": "execute_result"
    }
   ],
   "source": [
    "from pycocotools.coco import COCO\n",
    "\n",
    "def get_classname(classID, cats):\n",
    "    for i in range(len(cats)):\n",
    "        if cats[i]['id']==classID:\n",
    "            return cats[i]['name']\n",
    "    return \"None\"\n",
    "\n",
    "category_names = {j:i for (i,j) in zip(np.arange(11), ['Background', 'General trash', 'Paper', 'Paper pack', 'Metal', 'Glass', \n",
    "                                                        'Plastic', 'Styrofoam', 'Plastic bag', 'Battery', 'Clothing']) }\n",
    "category_names"
   ]
  },
  {
   "cell_type": "markdown",
   "metadata": {},
   "source": [
    "### 이미지 저장 함수"
   ]
  },
  {
   "cell_type": "code",
   "execution_count": 4,
   "metadata": {},
   "outputs": [],
   "source": [
    "def saveImages(src_path, json_fname, dst_path, phase='train'):\n",
    "    \"\"\"\n",
    "    ade format에 맞춰서 새로운 이미지들을 생성해줍니다. \n",
    "    :param src_path: json파일과 이미지들이 저장된 상위 폴더 경로 \n",
    "    :param json_fname: json 파일명\n",
    "    :param dst_path: 새로 생성할 이미지 파일들의 root 경로\n",
    "    :param phase: train/val/test\n",
    "    \"\"\"\n",
    "    coco = COCO(os.path.join(src_path, json_fname))\n",
    "\n",
    "    with open(os.path.join(src_path, json_fname), 'r') as f:\n",
    "        load_json = json.load(f)\n",
    "\n",
    "    # GT 이미지 저장 폴더 생성\n",
    "    if not os.path.exists(os.path.join(dst_path, 'images', phase)):\n",
    "        os.makedirs(os.path.join(dst_path, 'images', phase))\n",
    "\n",
    "    # label 이미지 저장 폴더 생성\n",
    "    if not os.path.exists(os.path.join(base_path_dst, 'annotations', phase)):\n",
    "        os.makedirs(os.path.join(base_path_dst, 'annotations', phase))\n",
    "    \n",
    "    for index in tqdm(range(len(load_json['images']))):\n",
    "        image_id = load_json['images'][index][\"id\"]\n",
    "        \n",
    "        image_infos = coco.loadImgs(image_id)[0]\n",
    "        # cv2 를 활용하여 image 불러오기\n",
    "        images = Image.open(os.path.join(src_path, image_infos['file_name']))\n",
    "        new_fname = image_infos['file_name'].replace('/', '-').replace('.jpg', '')\n",
    "\n",
    "        ann_ids = coco.getAnnIds(imgIds=image_infos['id'])\n",
    "        anns = coco.loadAnns(ann_ids)\n",
    "\n",
    "        # Load the categories in a variable\n",
    "        cat_ids = coco.getCatIds()\n",
    "        cats = coco.loadCats(cat_ids)\n",
    "\n",
    "        # masks : size가 (height x width)인 2D\n",
    "        # 각각의 pixel 값에는 \"category id\" 할당\n",
    "        # Background = 0\n",
    "        masks = np.zeros((image_infos[\"height\"], image_infos[\"width\"]))\n",
    "        # General trash = 1, ... , Cigarette = 10\n",
    "        if phase!='test':\n",
    "            anns = sorted(anns, key=lambda idx : idx['area'], reverse=True)\n",
    "            for i in range(len(anns)):\n",
    "                className = get_classname(anns[i]['category_id'], cats)\n",
    "                pixel_value = category_names[className]\n",
    "                masks[coco.annToMask(anns[i]) == 1] = pixel_value\n",
    "        masks = Image.fromarray(masks.astype(np.int8))\n",
    "        images.save(os.path.join(dst_path, 'images', phase, new_fname+'.jpg'))\n",
    "        masks.save(os.path.join(dst_path, 'annotations', phase, new_fname+'.png'))"
   ]
  },
  {
   "cell_type": "code",
   "execution_count": 5,
   "metadata": {},
   "outputs": [
    {
     "name": "stdout",
     "output_type": "stream",
     "text": [
      "loading annotations into memory...\n",
      "Done (t=2.54s)\n",
      "creating index...\n",
      "index created!\n"
     ]
    },
    {
     "name": "stderr",
     "output_type": "stream",
     "text": [
      "100%|██████████| 2379/2379 [01:09<00:00, 34.26it/s]\n"
     ]
    },
    {
     "name": "stdout",
     "output_type": "stream",
     "text": [
      "loading annotations into memory...\n",
      "Done (t=0.79s)\n",
      "creating index...\n",
      "index created!\n"
     ]
    },
    {
     "name": "stderr",
     "output_type": "stream",
     "text": [
      "100%|██████████| 772/772 [00:23<00:00, 33.46it/s]\n"
     ]
    },
    {
     "name": "stdout",
     "output_type": "stream",
     "text": [
      "loading annotations into memory...\n",
      "Done (t=0.00s)\n",
      "creating index...\n",
      "index created!\n"
     ]
    },
    {
     "name": "stderr",
     "output_type": "stream",
     "text": [
      "100%|██████████| 624/624 [00:13<00:00, 47.86it/s]\n"
     ]
    }
   ],
   "source": [
    "saveImages(base_path_ori, train_json_fname, base_path_dst, 'train')\n",
    "saveImages(base_path_ori, val_json_fname, base_path_dst, 'val')\n",
    "saveImages(base_path_ori, test_json_fname, base_path_dst, 'test')"
   ]
  },
  {
   "cell_type": "code",
   "execution_count": null,
   "metadata": {},
   "outputs": [],
   "source": []
  }
 ],
 "metadata": {
  "interpreter": {
   "hash": "684e7718cc5b0f539b595fbc9a19d043f2885c9b1b7338e67a47c1f9a2719a20"
  },
  "kernelspec": {
   "display_name": "Python 3.8.13 ('mmlab')",
   "language": "python",
   "name": "python3"
  },
  "language_info": {
   "codemirror_mode": {
    "name": "ipython",
    "version": 3
   },
   "file_extension": ".py",
   "mimetype": "text/x-python",
   "name": "python",
   "nbconvert_exporter": "python",
   "pygments_lexer": "ipython3",
   "version": "3.7.13"
  },
  "orig_nbformat": 4
 },
 "nbformat": 4,
 "nbformat_minor": 2
}
