{
 "cells": [
  {
   "cell_type": "code",
   "execution_count": 3,
   "id": "dcc41262",
   "metadata": {},
   "outputs": [],
   "source": [
    "import os\n",
    "import json\n",
    "import warnings \n",
    "warnings.filterwarnings('ignore')\n",
    "\n",
    "import numpy as np\n",
    "import pandas as pd\n",
    "\n",
    "# 전처리를 위한 라이브러리\n",
    "from pycocotools.coco import COCO\n",
    "\n",
    "# 시각화를 위한 라이브러리\n",
    "from ipywidgets import interact\n",
    "from PIL import Image\n",
    "import matplotlib.pyplot as plt\n",
    "import seaborn as sns; sns.set()\n",
    "from matplotlib.patches import Patch\n",
    "\n",
    "#!pip install webcolors\n",
    "import webcolors"
   ]
  },
  {
   "cell_type": "code",
   "execution_count": 4,
   "id": "8f7c9852",
   "metadata": {},
   "outputs": [
    {
     "name": "stdout",
     "output_type": "stream",
     "text": [
      "loading annotations into memory...\n",
      "Done (t=1.52s)\n",
      "creating index...\n",
      "index created!\n"
     ]
    }
   ],
   "source": [
    "class_colormap = pd.read_csv(\"/opt/ml/input/code/class_dict.csv\")\n",
    "result_1 = pd.read_csv(\"/opt/ml/input/code/submission/cv_val.csv\")\n",
    "result_2 = pd.read_csv(\"/opt/ml/input/code/submission/swin_L(pretrained).csv\")\n",
    "anns_file_path = '/opt/ml/check_all/inspect_1 (1).json'\n",
    "coco = COCO(anns_file_path)\n",
    "with open(anns_file_path, 'r') as f:\n",
    "    dataset = json.loads(f.read())\n",
    "\n",
    "categories_gt = dataset['categories']\n",
    "anns_gt = dataset['annotations']\n",
    "imgs_gt = dataset['images']\n",
    "imgs_pr_1 = result_1[\"image_id\"].tolist()\n",
    "imgs_pr_2 = result_2[\"image_id\"].tolist()\n",
    "\n",
    "colormap = np.zeros((11, 3), dtype=np.uint8)\n",
    "for inex, (_, r, g, b) in enumerate(class_colormap.values):\n",
    "    colormap[inex] = [r, g, b]"
   ]
  },
  {
   "cell_type": "markdown",
   "id": "08c76c74",
   "metadata": {},
   "source": [
    "## 시각화"
   ]
  },
  {
   "cell_type": "code",
   "execution_count": 7,
   "id": "52b9c36c-b273-4031-8c7b-3136606b8440",
   "metadata": {},
   "outputs": [
    {
     "data": {
      "application/vnd.jupyter.widget-view+json": {
       "model_id": "e7d5f092b5c34d7c8850104664a6e064",
       "version_major": 2,
       "version_minor": 0
      },
      "text/plain": [
       "interactive(children=(IntSlider(value=811, description='idx', max=948, min=675), Output()), _dom_classes=('wid…"
      ]
     },
     "metadata": {},
     "output_type": "display_data"
    }
   ],
   "source": [
    "@interact(idx=(675, len(imgs_gt)-1))\n",
    "def plot_csv(idx):\n",
    "    image_gt = imgs_gt[idx][\"file_name\"]\n",
    "    mask_gt = np.zeros((512, 512))\n",
    "    for ann in anns_gt:\n",
    "        if ann['image_id'] == imgs_gt[idx]['id']:\n",
    "            pixel_value = ann[\"category_id\"]\n",
    "            mask_gt[coco.annToMask(ann) == 1] = pixel_value\n",
    "            mask_gt = mask_gt.astype(np.int8)\n",
    "    \n",
    "    f = lambda x: colormap[x]\n",
    "    mask_gt = f(mask_gt)\n",
    "    \n",
    "    if image_gt in imgs_pr_1:\n",
    "        result = result_1\n",
    "        j = imgs_pr_1.index(image_gt)\n",
    "    else:\n",
    "        result = result_2\n",
    "        j = imgs_pr_2.index(image_gt)\n",
    "    mask = result['PredictionString'][j]\n",
    "    mask = list(map(lambda x: colormap[int(x)], mask.split()))\n",
    "    mask = [mask[i:i+512] for i in range(0, len(mask), 512)]\n",
    "    \n",
    "    fig, ax = plt.subplots(ncols=3, figsize=(20, 20))\n",
    "    category_and_rgb = [[category, (r,g,b)] for idx, (category, r, g, b) in enumerate(class_colormap.values)]\n",
    "    legend_elements = [Patch(facecolor=webcolors.rgb_to_hex(rgb), \n",
    "                             edgecolor=webcolors.rgb_to_hex(rgb), \n",
    "                             label=category) for category, rgb in category_and_rgb]\n",
    "    # Original Image\n",
    "    img = Image.open(os.path.join('/opt/ml/input/data',image_gt))\n",
    "    ax[0].imshow(img)\n",
    "    ax[0].set_title(f\"Orignal Image : {image_gt}\")\n",
    "    ax[0].axis('off')\n",
    "    # Pred Mask\n",
    "    ax[1].imshow(mask_gt)\n",
    "    ax[1].set_title(f\"Ground Truth\")\n",
    "    ax[1].axis('off')\n",
    "    # Pred Mask\n",
    "    ax[2].imshow(mask)\n",
    "    ax[2].set_title(f\"Pred Mask\")\n",
    "    ax[2].legend(handles=legend_elements, bbox_to_anchor=(1.05, 1), loc=2, borderaxespad=0)\n",
    "    ax[2].axis('off')\n",
    "    \n",
    "    \n",
    "    plt.grid(False)\n",
    "    plt.show()"
   ]
  },
  {
   "cell_type": "code",
   "execution_count": null,
   "id": "50432cb3",
   "metadata": {},
   "outputs": [],
   "source": []
  }
 ],
 "metadata": {
  "kernelspec": {
   "display_name": "Python 3 (ipykernel)",
   "language": "python",
   "name": "python3"
  },
  "language_info": {
   "codemirror_mode": {
    "name": "ipython",
    "version": 3
   },
   "file_extension": ".py",
   "mimetype": "text/x-python",
   "name": "python",
   "nbconvert_exporter": "python",
   "pygments_lexer": "ipython3",
   "version": "3.8.13"
  }
 },
 "nbformat": 4,
 "nbformat_minor": 5
}
